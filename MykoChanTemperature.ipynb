{
  "nbformat": 4,
  "nbformat_minor": 0,
  "metadata": {
    "colab": {
      "provenance": [],
      "authorship_tag": "ABX9TyM6SCEu1wVvyM5jW7GacIXA",
      "include_colab_link": true
    },
    "kernelspec": {
      "name": "python3",
      "display_name": "Python 3"
    },
    "language_info": {
      "name": "python"
    }
  },
  "cells": [
    {
      "cell_type": "markdown",
      "metadata": {
        "id": "view-in-github",
        "colab_type": "text"
      },
      "source": [
        "<a href=\"https://colab.research.google.com/github/MykoChan123/BSIS2-DV-LAB5-MykoChan/blob/main/MykoChanTemperature.ipynb\" target=\"_parent\"><img src=\"https://colab.research.google.com/assets/colab-badge.svg\" alt=\"Open In Colab\"/></a>"
      ]
    },
    {
      "cell_type": "code",
      "source": [
        "temp = int(input(\"input Degrees\"))\n",
        "\n",
        "if( temp >= 10 and temp <= 36):\n",
        "  print(\"the temperature is good today\")\n",
        "  print(\"We can go \")\n",
        "else:\n",
        "  print(\"The temperature is bad\")\n",
        "  print(\"We cant go outside\")"
      ],
      "metadata": {
        "colab": {
          "base_uri": "https://localhost:8080/"
        },
        "id": "uiagvIRJeMHb",
        "outputId": "93288b55-05ae-4775-eb55-2b8bc2360fb9"
      },
      "execution_count": null,
      "outputs": [
        {
          "output_type": "stream",
          "name": "stdout",
          "text": [
            "input Degrees50\n",
            "The temperature is bad\n",
            "We cant go outside\n"
          ]
        }
      ]
    }
  ]
}